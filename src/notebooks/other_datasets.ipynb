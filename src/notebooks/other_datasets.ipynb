{
 "cells": [
  {
   "attachments": {},
   "cell_type": "markdown",
   "metadata": {},
   "source": [
    "## Here I want to load and prepare other datasets such as data relating to weather and latitude"
   ]
  },
  {
   "cell_type": "code",
   "execution_count": 1,
   "metadata": {},
   "outputs": [],
   "source": [
    "import pandas as pd\n",
    "import numpy as np\n",
    "import os\n",
    "import sys\n",
    "from pathlib import Path\n",
    "import matplotlib.pyplot as plt\n",
    "import seaborn as sns\n",
    "\n",
    "from sklearn.model_selection import train_test_split\n",
    "from sklearn.linear_model import LinearRegression, Ridge, Lasso\n",
    "from sklearn.preprocessing import StandardScaler, PolynomialFeatures\n",
    "from sklearn.pipeline import Pipeline\n",
    "from sklearn.metrics import mean_absolute_percentage_error"
   ]
  },
  {
   "attachments": {},
   "cell_type": "markdown",
   "metadata": {},
   "source": [
    "### Create a distance from equator value per country"
   ]
  },
  {
   "cell_type": "code",
   "execution_count": 2,
   "metadata": {},
   "outputs": [],
   "source": [
    "lat_long = pd.read_csv(\"../../raw_data/Country_lat_long.csv\")"
   ]
  },
  {
   "cell_type": "code",
   "execution_count": 3,
   "metadata": {},
   "outputs": [],
   "source": [
    "lat_long['Distance_Equator'] = np.log1p(abs(lat_long['Latitude']))"
   ]
  },
  {
   "cell_type": "code",
   "execution_count": 4,
   "metadata": {},
   "outputs": [
    {
     "data": {
      "image/png": "[encoded data removed]",
      "text/plain": [
       "<Figure size 640x480 with 4 Axes>"
      ]
     },
     "metadata": {},
     "output_type": "display_data"
    }
   ],
   "source": [
    "lat_long.hist();"
   ]
  },
  {
   "cell_type": "code",
   "execution_count": 5,
   "metadata": {},
   "outputs": [],
   "source": [
    "distance_equator = lat_long[['Country', 'Distance_Equator']]"
   ]
  },
  {
   "cell_type": "code",
   "execution_count": 6,
   "metadata": {},
   "outputs": [],
   "source": [
    "distance_equator.to_parquet('../data/distance_equator.pq')"
   ]
  },
  {
   "attachments": {},
   "cell_type": "markdown",
   "metadata": {},
   "source": [
    "# See how this new variable affects the model"
   ]
  },
  {
   "cell_type": "code",
   "execution_count": 7,
   "metadata": {},
   "outputs": [],
   "source": [
    "world_bank_df = pd.read_parquet('../data/world_bank_variables_target.pq')"
   ]
  },
  {
   "attachments": {},
   "cell_type": "markdown",
   "metadata": {},
   "source": [
    "'Europe & Central Asia', 'Heavily indebted poor countries (HIPC)', 'Timor-Leste', 'Europe & Central Asia (IDA & IBRD countries)', 'Sub-Saharan Africa (IDA & IBRD countries)', 'Fragile and conflict affected situations', 'IDA only', 'Middle income', 'Early-demographic dividend', 'Europe & Central Asia (excluding high income)', 'Low & middle income', 'World', 'Middle East & North Africa', 'Small states', 'Lower middle income', 'Latin America & Caribbean', 'Least developed countries: UN classification', 'High income', 'Arab World', 'South Asia (IDA & IBRD)', 'Africa Western and Central', 'OECD members', 'Pre-demographic dividend', 'Latin America & the Caribbean (IDA & IBRD countries)', 'Sub-Saharan Africa', 'European Union', 'IBRD only', 'Africa Eastern and Southern', 'IDA blend', 'Post-demographic dividend', 'Central Europe and the Baltics', 'Latin America & Caribbean (excluding high income)', 'IDA total', 'Euro area', 'Middle East & North Africa (excluding high income)', 'Pacific island small states', 'Other small states', 'Low income', 'Caribbean small states', 'IDA & IBRD total', 'Sub-Saharan Africa (excluding high income)', 'Middle East & North Africa (IDA & IBRD countries)', 'North America', 'South Asia'"
   ]
  },
  {
   "cell_type": "code",
   "execution_count": 8,
   "metadata": {},
   "outputs": [],
   "source": [
    "data = pd.merge(world_bank_df, distance_equator, left_on = 'Country_Name', right_on = 'Country', how = 'left')"
   ]
  },
  {
   "cell_type": "code",
   "execution_count": 9,
   "metadata": {},
   "outputs": [
    {
     "data": {
      "text/plain": [
       "array(['Pre-demographic dividend', 'OECD members', 'Other small states',\n",
       "       'North America', 'Latin America & Caribbean',\n",
       "       'Least developed countries: UN classification', 'Low income',\n",
       "       'Lower middle income', 'Low & middle income',\n",
       "       'Middle East & North Africa', 'Middle income',\n",
       "       'Middle East & North Africa (excluding high income)',\n",
       "       'Timor-Leste', 'Middle East & North Africa (IDA & IBRD countries)',\n",
       "       'South Asia (IDA & IBRD)',\n",
       "       'Sub-Saharan Africa (IDA & IBRD countries)', 'World',\n",
       "       'Latin America & the Caribbean (IDA & IBRD countries)',\n",
       "       'Europe & Central Asia (IDA & IBRD countries)',\n",
       "       'Pacific island small states', 'Post-demographic dividend',\n",
       "       'South Asia', 'Sub-Saharan Africa (excluding high income)',\n",
       "       'Sub-Saharan Africa', 'Small states',\n",
       "       'Central Europe and the Baltics', 'Caribbean small states',\n",
       "       'Africa Eastern and Southern', 'Africa Western and Central',\n",
       "       'Arab World', 'Early-demographic dividend',\n",
       "       'Europe & Central Asia', 'IBRD only', 'IDA & IBRD total',\n",
       "       'IDA total', 'IDA blend', 'IDA only',\n",
       "       'Europe & Central Asia (excluding high income)',\n",
       "       'Latin America & Caribbean (excluding high income)',\n",
       "       'Heavily indebted poor countries (HIPC)', 'Euro area',\n",
       "       'European Union', 'Fragile and conflict affected situations',\n",
       "       'High income'], dtype=object)"
      ]
     },
     "execution_count": 9,
     "metadata": {},
     "output_type": "execute_result"
    }
   ],
   "source": [
    "data[data['Distance_Equator'].isna()]['Country_Name'].unique()"
   ]
  },
  {
   "attachments": {},
   "cell_type": "markdown",
   "metadata": {},
   "source": [
    "#### So all these rows relate to areas, rather than specific countries, so I will drop them"
   ]
  },
  {
   "cell_type": "code",
   "execution_count": 10,
   "metadata": {},
   "outputs": [],
   "source": [
    "data = data[~data['Distance_Equator'].isna()]"
   ]
  },
  {
   "cell_type": "code",
   "execution_count": 11,
   "metadata": {},
   "outputs": [
    {
     "data": {
      "text/html": [
       "<div>\n",
       "<style scoped>\n",
       "    .dataframe tbody tr th:only-of-type {\n",
       "        vertical-align: middle;\n",
       "    }\n",
       "\n",
       "    .dataframe tbody tr th {\n",
       "        vertical-align: top;\n",
       "    }\n",
       "\n",
       "    .dataframe thead th {\n",
       "        text-align: right;\n",
       "    }\n",
       "</style>\n",
       "<table border=\"1\" class=\"dataframe\">\n",
       "  <thead>\n",
       "    <tr style=\"text-align: right;\">\n",
       "      <th></th>\n",
       "      <th>Country_Name</th>\n",
       "      <th>Country_Code</th>\n",
       "      <th>Year</th>\n",
       "      <th>Cereal_Yield</th>\n",
       "      <th>Arable_Land_Percent</th>\n",
       "      <th>Value_Added_AFF</th>\n",
       "      <th>Arable_Land_Person</th>\n",
       "      <th>Freshwater_Withdrawl</th>\n",
       "      <th>Fertilizer</th>\n",
       "      <th>Education_Expenditure</th>\n",
       "      <th>Natural_Resource_Rents</th>\n",
       "      <th>Country</th>\n",
       "      <th>Distance_Equator</th>\n",
       "    </tr>\n",
       "  </thead>\n",
       "  <tbody>\n",
       "    <tr>\n",
       "      <th>0</th>\n",
       "      <td>Norway</td>\n",
       "      <td>NOR</td>\n",
       "      <td>1971.0</td>\n",
       "      <td>8.079401</td>\n",
       "      <td>1.163547</td>\n",
       "      <td>1.804178</td>\n",
       "      <td>0.187304</td>\n",
       "      <td>1.429050</td>\n",
       "      <td>5.563376</td>\n",
       "      <td>1.796640</td>\n",
       "      <td>0.334428</td>\n",
       "      <td>Norway</td>\n",
       "      <td>4.143135</td>\n",
       "    </tr>\n",
       "    <tr>\n",
       "      <th>1</th>\n",
       "      <td>Netherlands</td>\n",
       "      <td>NLD</td>\n",
       "      <td>1971.0</td>\n",
       "      <td>8.371358</td>\n",
       "      <td>3.170024</td>\n",
       "      <td>1.758224</td>\n",
       "      <td>0.056718</td>\n",
       "      <td>1.019467</td>\n",
       "      <td>6.661533</td>\n",
       "      <td>1.991730</td>\n",
       "      <td>0.093283</td>\n",
       "      <td>Netherlands</td>\n",
       "      <td>3.979682</td>\n",
       "    </tr>\n",
       "    <tr>\n",
       "      <th>2</th>\n",
       "      <td>Nicaragua</td>\n",
       "      <td>NIC</td>\n",
       "      <td>1971.0</td>\n",
       "      <td>6.988136</td>\n",
       "      <td>2.266147</td>\n",
       "      <td>3.306797</td>\n",
       "      <td>0.344867</td>\n",
       "      <td>1.213858</td>\n",
       "      <td>3.261124</td>\n",
       "      <td>1.250483</td>\n",
       "      <td>1.206264</td>\n",
       "      <td>Nicaragua</td>\n",
       "      <td>2.639057</td>\n",
       "    </tr>\n",
       "    <tr>\n",
       "      <th>3</th>\n",
       "      <td>Namibia</td>\n",
       "      <td>NAM</td>\n",
       "      <td>1971.0</td>\n",
       "      <td>5.842094</td>\n",
       "      <td>0.583301</td>\n",
       "      <td>3.138460</td>\n",
       "      <td>0.609293</td>\n",
       "      <td>1.185488</td>\n",
       "      <td>1.919471</td>\n",
       "      <td>1.506671</td>\n",
       "      <td>2.041281</td>\n",
       "      <td>Namibia</td>\n",
       "      <td>3.135494</td>\n",
       "    </tr>\n",
       "    <tr>\n",
       "      <th>4</th>\n",
       "      <td>Niger</td>\n",
       "      <td>NER</td>\n",
       "      <td>1971.0</td>\n",
       "      <td>6.053970</td>\n",
       "      <td>2.288729</td>\n",
       "      <td>4.196612</td>\n",
       "      <td>1.206025</td>\n",
       "      <td>0.253070</td>\n",
       "      <td>0.022200</td>\n",
       "      <td>0.718947</td>\n",
       "      <td>1.028939</td>\n",
       "      <td>Niger</td>\n",
       "      <td>2.833213</td>\n",
       "    </tr>\n",
       "  </tbody>\n",
       "</table>\n",
       "</div>"
      ],
      "text/plain": [
       "  Country_Name Country_Code    Year  Cereal_Yield  Arable_Land_Percent  \\\n",
       "0       Norway          NOR  1971.0      8.079401             1.163547   \n",
       "1  Netherlands          NLD  1971.0      8.371358             3.170024   \n",
       "2    Nicaragua          NIC  1971.0      6.988136             2.266147   \n",
       "3      Namibia          NAM  1971.0      5.842094             0.583301   \n",
       "4        Niger          NER  1971.0      6.053970             2.288729   \n",
       "\n",
       "   Value_Added_AFF  Arable_Land_Person  Freshwater_Withdrawl  Fertilizer  \\\n",
       "0         1.804178            0.187304              1.429050    5.563376   \n",
       "1         1.758224            0.056718              1.019467    6.661533   \n",
       "2         3.306797            0.344867              1.213858    3.261124   \n",
       "3         3.138460            0.609293              1.185488    1.919471   \n",
       "4         4.196612            1.206025              0.253070    0.022200   \n",
       "\n",
       "   Education_Expenditure  Natural_Resource_Rents      Country  \\\n",
       "0               1.796640                0.334428       Norway   \n",
       "1               1.991730                0.093283  Netherlands   \n",
       "2               1.250483                1.206264    Nicaragua   \n",
       "3               1.506671                2.041281      Namibia   \n",
       "4               0.718947                1.028939        Niger   \n",
       "\n",
       "   Distance_Equator  \n",
       "0          4.143135  \n",
       "1          3.979682  \n",
       "2          2.639057  \n",
       "3          3.135494  \n",
       "4          2.833213  "
      ]
     },
     "execution_count": 11,
     "metadata": {},
     "output_type": "execute_result"
    }
   ],
   "source": [
    "data.head()"
   ]
  },
  {
   "cell_type": "code",
   "execution_count": 12,
   "metadata": {},
   "outputs": [
    {
     "data": {
      "image/png": "[encoded data removed]",
      "text/plain": [
       "<Figure size 640x480 with 1 Axes>"
      ]
     },
     "metadata": {},
     "output_type": "display_data"
    }
   ],
   "source": [
    "X = data.drop(columns = ['Country_Name', 'Country_Code', 'Cereal_Yield', 'Country', 'Distance_Equator'])\n",
    "y = data['Cereal_Yield']\n",
    "\n",
    "X_train, X_test, y_train, y_test = train_test_split(X, y, test_size = 0.2, random_state = 84)\n",
    "\n",
    "scores = []\n",
    "\n",
    "for degree in np.arange(1, 6):\n",
    "    pipe = Pipeline([('polynomial', PolynomialFeatures(degree = degree)), ('scaler', StandardScaler()), ('lin_reg', LinearRegression())])\n",
    "    pipe.fit(X_train, y_train)\n",
    "    y_pred_test = pipe.predict(X_test)\n",
    "    y_pred_train = pipe.predict(X_train)\n",
    "    mape_test = mean_absolute_percentage_error(y_test, y_pred_test) * 100\n",
    "    mape_train = mean_absolute_percentage_error(y_train, y_pred_train) * 100\n",
    "    \n",
    "    scores.append([degree, mape_train, mape_test])\n",
    "    \n",
    "poly_line_reg_scores = pd.DataFrame(scores, columns = ['Degree', 'MAPE Train', 'MAPE Test'])\n",
    "\n",
    "sns.lineplot(data = poly_line_reg_scores, x = 'Degree', y = 'MAPE Train', label = 'Train')\n",
    "sns.lineplot(data = poly_line_reg_scores, x = 'Degree', y = 'MAPE Test', label = 'Test');"
   ]
  },
  {
   "cell_type": "code",
   "execution_count": 13,
   "metadata": {},
   "outputs": [
    {
     "data": {
      "image/png": "[encoded data removed]",
      "text/plain": [
       "<Figure size 640x480 with 1 Axes>"
      ]
     },
     "metadata": {},
     "output_type": "display_data"
    }
   ],
   "source": [
    "X = data.drop(columns = ['Country_Name', 'Country_Code', 'Cereal_Yield', 'Country'])\n",
    "y = data['Cereal_Yield']\n",
    "\n",
    "X_train, X_test, y_train, y_test = train_test_split(X, y, test_size = 0.2, random_state = 84)\n",
    "\n",
    "scores = []\n",
    "\n",
    "for degree in np.arange(1, 6):\n",
    "    pipe = Pipeline([('polynomial', PolynomialFeatures(degree = degree)), ('scaler', StandardScaler()), ('lin_reg', LinearRegression())])\n",
    "    pipe.fit(X_train, y_train)\n",
    "    y_pred_test = pipe.predict(X_test)\n",
    "    y_pred_train = pipe.predict(X_train)\n",
    "    mape_test = mean_absolute_percentage_error(y_test, y_pred_test) * 100\n",
    "    mape_train = mean_absolute_percentage_error(y_train, y_pred_train) * 100\n",
    "    \n",
    "    scores.append([degree, mape_train, mape_test])\n",
    "    \n",
    "poly_line_reg_scores = pd.DataFrame(scores, columns = ['Degree', 'MAPE Train', 'MAPE Test'])\n",
    "\n",
    "sns.lineplot(data = poly_line_reg_scores, x = 'Degree', y = 'MAPE Train', label = 'Train')\n",
    "sns.lineplot(data = poly_line_reg_scores, x = 'Degree', y = 'MAPE Test', label = 'Test');"
   ]
  },
  {
   "attachments": {},
   "cell_type": "markdown",
   "metadata": {},
   "source": [
    "Slight improvements including the distance from equator"
   ]
  },
  {
   "attachments": {},
   "cell_type": "markdown",
   "metadata": {},
   "source": [
    "## Get the annual average temperature"
   ]
  },
  {
   "cell_type": "code",
   "execution_count": 14,
   "metadata": {},
   "outputs": [],
   "source": [
    "temp = pd.read_csv(\"../../raw_data/temp.csv\")"
   ]
  },
  {
   "cell_type": "code",
   "execution_count": 15,
   "metadata": {},
   "outputs": [
    {
     "data": {
      "text/html": [
       "<div>\n",
       "<style scoped>\n",
       "    .dataframe tbody tr th:only-of-type {\n",
       "        vertical-align: middle;\n",
       "    }\n",
       "\n",
       "    .dataframe tbody tr th {\n",
       "        vertical-align: top;\n",
       "    }\n",
       "\n",
       "    .dataframe thead th {\n",
       "        text-align: right;\n",
       "    }\n",
       "</style>\n",
       "<table border=\"1\" class=\"dataframe\">\n",
       "  <thead>\n",
       "    <tr style=\"text-align: right;\">\n",
       "      <th></th>\n",
       "      <th>year</th>\n",
       "      <th>country</th>\n",
       "      <th>avg_temp</th>\n",
       "    </tr>\n",
       "  </thead>\n",
       "  <tbody>\n",
       "    <tr>\n",
       "      <th>0</th>\n",
       "      <td>1849</td>\n",
       "      <td>Cote d'Ivoire</td>\n",
       "      <td>25.58</td>\n",
       "    </tr>\n",
       "    <tr>\n",
       "      <th>1</th>\n",
       "      <td>1850</td>\n",
       "      <td>Cote d'Ivoire</td>\n",
       "      <td>25.52</td>\n",
       "    </tr>\n",
       "    <tr>\n",
       "      <th>2</th>\n",
       "      <td>1851</td>\n",
       "      <td>Cote d'Ivoire</td>\n",
       "      <td>25.67</td>\n",
       "    </tr>\n",
       "    <tr>\n",
       "      <th>3</th>\n",
       "      <td>1852</td>\n",
       "      <td>Cote d'Ivoire</td>\n",
       "      <td>NaN</td>\n",
       "    </tr>\n",
       "    <tr>\n",
       "      <th>4</th>\n",
       "      <td>1853</td>\n",
       "      <td>Cote d'Ivoire</td>\n",
       "      <td>NaN</td>\n",
       "    </tr>\n",
       "  </tbody>\n",
       "</table>\n",
       "</div>"
      ],
      "text/plain": [
       "   year        country  avg_temp\n",
       "0  1849  Cote d'Ivoire     25.58\n",
       "1  1850  Cote d'Ivoire     25.52\n",
       "2  1851  Cote d'Ivoire     25.67\n",
       "3  1852  Cote d'Ivoire       NaN\n",
       "4  1853  Cote d'Ivoire       NaN"
      ]
     },
     "execution_count": 15,
     "metadata": {},
     "output_type": "execute_result"
    }
   ],
   "source": [
    "temp.head()"
   ]
  },
  {
   "cell_type": "code",
   "execution_count": 16,
   "metadata": {},
   "outputs": [],
   "source": [
    "temp = temp[temp['year'] > 1969]"
   ]
  },
  {
   "cell_type": "code",
   "execution_count": 17,
   "metadata": {},
   "outputs": [
    {
     "name": "stdout",
     "output_type": "stream",
     "text": [
      "<class 'pandas.core.frame.DataFrame'>\n",
      "Int64Index: 15180 entries, 121 to 71310\n",
      "Data columns (total 3 columns):\n",
      " #   Column    Non-Null Count  Dtype  \n",
      "---  ------    --------------  -----  \n",
      " 0   year      15180 non-null  int64  \n",
      " 1   country   15180 non-null  object \n",
      " 2   avg_temp  15180 non-null  float64\n",
      "dtypes: float64(1), int64(1), object(1)\n",
      "memory usage: 474.4+ KB\n"
     ]
    }
   ],
   "source": [
    "temp.info()"
   ]
  },
  {
   "cell_type": "code",
   "execution_count": 18,
   "metadata": {},
   "outputs": [
    {
     "name": "stdout",
     "output_type": "stream",
     "text": [
      "36\n"
     ]
    }
   ],
   "source": [
    "temp_missing = (set(data['Country_Name']) - set(temp.country.unique()))\n",
    "print(len(temp_missing))"
   ]
  },
  {
   "attachments": {},
   "cell_type": "markdown",
   "metadata": {},
   "source": [
    "#### these are the countries not in the temp set\n",
    "'Maldives', 'Panama', 'Trinidad and Tobago', 'Yemen, Rep.', 'Fiji', 'Paraguay', 'Cuba', 'Togo', 'Jordan', 'Belize', 'Vanuatu', 'Congo, Rep.', 'Eswatini', 'Costa Rica', 'Oman', 'Congo, Dem. Rep.', 'Bhutan', 'Comoros', 'Cyprus', 'Brunei Darussalam', 'Cabo Verde', 'Benin', \"Korea, Dem. People's Rep.\", 'Israel', 'New Caledonia', 'Korea, Rep.', 'St. Vincent and the Grenadines', 'Cambodia', 'Dominica', 'Barbados', 'Grenada', 'Puerto Rico', 'Gambia, The', 'Myanmar', 'Chad', 'Sao Tome and Principe'"
   ]
  },
  {
   "attachments": {},
   "cell_type": "markdown",
   "metadata": {},
   "source": []
  },
  {
   "cell_type": "code",
   "execution_count": 19,
   "metadata": {},
   "outputs": [],
   "source": [
    "from haversine import haversine"
   ]
  },
  {
   "cell_type": "code",
   "execution_count": 20,
   "metadata": {},
   "outputs": [],
   "source": [
    "def extract_lat_lon(row):\n",
    "    lat = row['Latitude']\n",
    "    long = row['Longitude']\n",
    "    country = row['Country']\n",
    "    return country, lat, long    "
   ]
  },
  {
   "cell_type": "code",
   "execution_count": 21,
   "metadata": {},
   "outputs": [],
   "source": [
    "def haversine_calculation(row, countries_with_temp: list, temperature_df: pd.DataFrame):\n",
    "    '''\n",
    "    Taking a country as starting point, we find the nearest country by haversine calculation but limiting the results to those countries that do have temperature values\n",
    "    '''\n",
    "    country, lat, long = extract_lat_lon(row)\n",
    "    country_distance = []\n",
    "    for row in temperature_df.itertuples():\n",
    "        if country != row.Country:\n",
    "            country_distance.append([row.Country, haversine((lat, long), (row.Latitude, row.Longitude), unit = 'km')])\n",
    "    country_distance = sorted(country_distance,key=lambda l:l[1])\n",
    "    for cd in country_distance:\n",
    "        if cd[0] in countries_with_temp:\n",
    "            return cd[0], cd[1]"
   ]
  },
  {
   "cell_type": "code",
   "execution_count": 22,
   "metadata": {},
   "outputs": [],
   "source": [
    "countries_with_temp = temp['country'].unique()\n",
    "\n",
    "lat_long[['Nearest_Country', 'Haversine_Distance']] = lat_long.apply(lambda row: haversine_calculation(row, countries_with_temp), axis = 1).tolist()"
   ]
  },
  {
   "cell_type": "code",
   "execution_count": 23,
   "metadata": {},
   "outputs": [
    {
     "data": {
      "text/html": [
       "<div>\n",
       "<style scoped>\n",
       "    .dataframe tbody tr th:only-of-type {\n",
       "        vertical-align: middle;\n",
       "    }\n",
       "\n",
       "    .dataframe tbody tr th {\n",
       "        vertical-align: top;\n",
       "    }\n",
       "\n",
       "    .dataframe thead th {\n",
       "        text-align: right;\n",
       "    }\n",
       "</style>\n",
       "<table border=\"1\" class=\"dataframe\">\n",
       "  <thead>\n",
       "    <tr style=\"text-align: right;\">\n",
       "      <th></th>\n",
       "      <th>ISO 3166 Country Code</th>\n",
       "      <th>Country</th>\n",
       "      <th>Latitude</th>\n",
       "      <th>Longitude</th>\n",
       "      <th>Distance_Equator</th>\n",
       "      <th>Nearest_Country</th>\n",
       "      <th>Haversine_Distance</th>\n",
       "    </tr>\n",
       "  </thead>\n",
       "  <tbody>\n",
       "    <tr>\n",
       "      <th>0</th>\n",
       "      <td>AD</td>\n",
       "      <td>Andorra</td>\n",
       "      <td>42.50</td>\n",
       "      <td>1.50</td>\n",
       "      <td>3.772761</td>\n",
       "      <td>France</td>\n",
       "      <td>391.212647</td>\n",
       "    </tr>\n",
       "    <tr>\n",
       "      <th>1</th>\n",
       "      <td>AE</td>\n",
       "      <td>United Arab Emirates</td>\n",
       "      <td>24.00</td>\n",
       "      <td>54.00</td>\n",
       "      <td>3.218876</td>\n",
       "      <td>Qatar</td>\n",
       "      <td>323.922971</td>\n",
       "    </tr>\n",
       "    <tr>\n",
       "      <th>2</th>\n",
       "      <td>AF</td>\n",
       "      <td>Afghanistan</td>\n",
       "      <td>33.00</td>\n",
       "      <td>65.00</td>\n",
       "      <td>3.526361</td>\n",
       "      <td>Pakistan</td>\n",
       "      <td>579.526937</td>\n",
       "    </tr>\n",
       "    <tr>\n",
       "      <th>3</th>\n",
       "      <td>AG</td>\n",
       "      <td>Antigua and Barbuda</td>\n",
       "      <td>17.05</td>\n",
       "      <td>-61.80</td>\n",
       "      <td>2.893146</td>\n",
       "      <td>Dominican Republic</td>\n",
       "      <td>962.486703</td>\n",
       "    </tr>\n",
       "    <tr>\n",
       "      <th>4</th>\n",
       "      <td>AI</td>\n",
       "      <td>Anguilla</td>\n",
       "      <td>18.25</td>\n",
       "      <td>-63.17</td>\n",
       "      <td>2.957511</td>\n",
       "      <td>Dominican Republic</td>\n",
       "      <td>794.610976</td>\n",
       "    </tr>\n",
       "  </tbody>\n",
       "</table>\n",
       "</div>"
      ],
      "text/plain": [
       "  ISO 3166 Country Code               Country  Latitude  Longitude  \\\n",
       "0                    AD               Andorra     42.50       1.50   \n",
       "1                    AE  United Arab Emirates     24.00      54.00   \n",
       "2                    AF           Afghanistan     33.00      65.00   \n",
       "3                    AG   Antigua and Barbuda     17.05     -61.80   \n",
       "4                    AI              Anguilla     18.25     -63.17   \n",
       "\n",
       "   Distance_Equator     Nearest_Country Haversine_Distance  \n",
       "0          3.772761              France         391.212647  \n",
       "1          3.218876               Qatar         323.922971  \n",
       "2          3.526361            Pakistan         579.526937  \n",
       "3          2.893146  Dominican Republic         962.486703  \n",
       "4          2.957511  Dominican Republic         794.610976  "
      ]
     },
     "execution_count": 23,
     "metadata": {},
     "output_type": "execute_result"
    }
   ],
   "source": [
    "lat_long.head()"
   ]
  },
  {
   "cell_type": "code",
   "execution_count": 24,
   "metadata": {},
   "outputs": [
    {
     "data": {
      "text/plain": [
       "set()"
      ]
     },
     "execution_count": 24,
     "metadata": {},
     "output_type": "execute_result"
    }
   ],
   "source": [
    "set(lat_long[lat_long['Country'].isin(temp_missing)]['Nearest_Country']) - set(temp['country'])"
   ]
  },
  {
   "attachments": {},
   "cell_type": "markdown",
   "metadata": {},
   "source": [
    "merge the temp with world bank data, identify the missing values, then try replace the misisng countries with the nearest geographiocal neighbours values which I have from haversine distances"
   ]
  },
  {
   "attachments": {},
   "cell_type": "markdown",
   "metadata": {},
   "source": [
    "#### Create the imputed temp data for countries that we don't have the temperatures for"
   ]
  },
  {
   "cell_type": "code",
   "execution_count": 25,
   "metadata": {},
   "outputs": [
    {
     "name": "stderr",
     "output_type": "stream",
     "text": [
      "/home/sean/.local/lib/python3.7/site-packages/ipykernel_launcher.py:6: SettingWithCopyWarning: \n",
      "A value is trying to be set on a copy of a slice from a DataFrame.\n",
      "Try using .loc[row_indexer,col_indexer] = value instead\n",
      "\n",
      "See the caveats in the documentation: https://pandas.pydata.org/pandas-docs/stable/user_guide/indexing.html#returning-a-view-versus-a-copy\n",
      "  \n"
     ]
    }
   ],
   "source": [
    "imputed_temps = pd.DataFrame(columns = ['year', 'country', 'avg_temp'])\n",
    "\n",
    "for tm in temp_missing:\n",
    "    neareast_country = lat_long[lat_long['Country'] == tm]['Nearest_Country'].values[0]\n",
    "    to_steal = temp[temp['country'] == neareast_country]\n",
    "    to_steal['country'] = tm\n",
    "    imputed_temps = imputed_temps.append(to_steal)"
   ]
  },
  {
   "cell_type": "code",
   "execution_count": 26,
   "metadata": {},
   "outputs": [],
   "source": [
    "temps_imputed_temps_added = temp.append(imputed_temps)"
   ]
  },
  {
   "cell_type": "code",
   "execution_count": 27,
   "metadata": {},
   "outputs": [],
   "source": [
    "temps_imputed_temps_added = temps_imputed_temps_added.drop_duplicates()"
   ]
  },
  {
   "cell_type": "code",
   "execution_count": 28,
   "metadata": {},
   "outputs": [],
   "source": [
    "temps_imputed_temps_added = temps_imputed_temps_added.groupby(['year', 'country'], as_index = False)['avg_temp'].mean()"
   ]
  },
  {
   "attachments": {},
   "cell_type": "markdown",
   "metadata": {},
   "source": [
    "### Now merge the main dataframe with the temps_imputed_temps_added"
   ]
  },
  {
   "cell_type": "code",
   "execution_count": 29,
   "metadata": {},
   "outputs": [],
   "source": [
    "data['Year'] = data['Year'].astype(object)"
   ]
  },
  {
   "cell_type": "code",
   "execution_count": 30,
   "metadata": {},
   "outputs": [],
   "source": [
    "wb_data_equator_temps = pd.merge(left = data, right = temps_imputed_temps_added, left_on = ['Country_Name', 'Year'], right_on = ['country', 'year'])"
   ]
  },
  {
   "cell_type": "code",
   "execution_count": 31,
   "metadata": {},
   "outputs": [],
   "source": [
    "wb_data_equator_temps = wb_data_equator_temps.drop(columns = ['Country', 'country', 'year'])"
   ]
  },
  {
   "cell_type": "code",
   "execution_count": 32,
   "metadata": {},
   "outputs": [
    {
     "name": "stdout",
     "output_type": "stream",
     "text": [
      "<class 'pandas.core.frame.DataFrame'>\n",
      "Int64Index: 5934 entries, 0 to 5933\n",
      "Data columns (total 13 columns):\n",
      " #   Column                  Non-Null Count  Dtype  \n",
      "---  ------                  --------------  -----  \n",
      " 0   Country_Name            5934 non-null   object \n",
      " 1   Country_Code            5934 non-null   object \n",
      " 2   Year                    5934 non-null   object \n",
      " 3   Cereal_Yield            5934 non-null   float64\n",
      " 4   Arable_Land_Percent     5934 non-null   float64\n",
      " 5   Value_Added_AFF         5934 non-null   float64\n",
      " 6   Arable_Land_Person      5934 non-null   float64\n",
      " 7   Freshwater_Withdrawl    5934 non-null   float64\n",
      " 8   Fertilizer              5934 non-null   float64\n",
      " 9   Education_Expenditure   5934 non-null   float64\n",
      " 10  Natural_Resource_Rents  5934 non-null   float64\n",
      " 11  Distance_Equator        5934 non-null   float64\n",
      " 12  avg_temp                5934 non-null   float64\n",
      "dtypes: float64(10), object(3)\n",
      "memory usage: 649.0+ KB\n"
     ]
    }
   ],
   "source": [
    "wb_data_equator_temps.info()"
   ]
  },
  {
   "attachments": {},
   "cell_type": "markdown",
   "metadata": {},
   "source": [
    "## Add in GDP evolution over time"
   ]
  },
  {
   "cell_type": "code",
   "execution_count": 47,
   "metadata": {},
   "outputs": [],
   "source": [
    "gdp = pd.read_csv('../../raw_data/gdp-per-capita-maddison-2020.csv')"
   ]
  },
  {
   "cell_type": "code",
   "execution_count": 48,
   "metadata": {},
   "outputs": [],
   "source": [
    "gdp = gdp[gdp['Year'] > 1969]\n",
    "gdp = gdp.drop(columns = ['417485-annotations'])"
   ]
  },
  {
   "cell_type": "code",
   "execution_count": 49,
   "metadata": {},
   "outputs": [
    {
     "name": "stdout",
     "output_type": "stream",
     "text": [
      "<class 'pandas.core.frame.DataFrame'>\n",
      "Int64Index: 8190 entries, 20 to 19875\n",
      "Data columns (total 4 columns):\n",
      " #   Column          Non-Null Count  Dtype  \n",
      "---  ------          --------------  -----  \n",
      " 0   Entity          8190 non-null   object \n",
      " 1   Code            8077 non-null   object \n",
      " 2   Year            8190 non-null   int64  \n",
      " 3   GDP per capita  8190 non-null   float64\n",
      "dtypes: float64(1), int64(1), object(2)\n",
      "memory usage: 319.9+ KB\n"
     ]
    }
   ],
   "source": [
    "gdp.info()"
   ]
  },
  {
   "cell_type": "code",
   "execution_count": 52,
   "metadata": {},
   "outputs": [],
   "source": [
    "wb_data_equator_temps_gdp = pd.merge(wb_data_equator_temps, gdp, left_on = ['Country_Code', 'Year'], right_on = ['Code', 'Year'])"
   ]
  },
  {
   "cell_type": "code",
   "execution_count": 56,
   "metadata": {},
   "outputs": [],
   "source": [
    "wb_data_equator_temps_gdp = wb_data_equator_temps_gdp.drop(columns = ['Entity', 'Code'])"
   ]
  },
  {
   "cell_type": "code",
   "execution_count": 57,
   "metadata": {},
   "outputs": [
    {
     "data": {
      "text/html": [
       "<div>\n",
       "<style scoped>\n",
       "    .dataframe tbody tr th:only-of-type {\n",
       "        vertical-align: middle;\n",
       "    }\n",
       "\n",
       "    .dataframe tbody tr th {\n",
       "        vertical-align: top;\n",
       "    }\n",
       "\n",
       "    .dataframe thead th {\n",
       "        text-align: right;\n",
       "    }\n",
       "</style>\n",
       "<table border=\"1\" class=\"dataframe\">\n",
       "  <thead>\n",
       "    <tr style=\"text-align: right;\">\n",
       "      <th></th>\n",
       "      <th>Country_Name</th>\n",
       "      <th>Country_Code</th>\n",
       "      <th>Year</th>\n",
       "      <th>Cereal_Yield</th>\n",
       "      <th>Arable_Land_Percent</th>\n",
       "      <th>Value_Added_AFF</th>\n",
       "      <th>Arable_Land_Person</th>\n",
       "      <th>Freshwater_Withdrawl</th>\n",
       "      <th>Fertilizer</th>\n",
       "      <th>Education_Expenditure</th>\n",
       "      <th>Natural_Resource_Rents</th>\n",
       "      <th>Distance_Equator</th>\n",
       "      <th>avg_temp</th>\n",
       "      <th>GDP per capita</th>\n",
       "    </tr>\n",
       "  </thead>\n",
       "  <tbody>\n",
       "    <tr>\n",
       "      <th>0</th>\n",
       "      <td>Norway</td>\n",
       "      <td>NOR</td>\n",
       "      <td>1971.0</td>\n",
       "      <td>8.079401</td>\n",
       "      <td>1.163547</td>\n",
       "      <td>1.804178</td>\n",
       "      <td>0.187304</td>\n",
       "      <td>1.429050</td>\n",
       "      <td>5.563376</td>\n",
       "      <td>1.796640</td>\n",
       "      <td>0.334428</td>\n",
       "      <td>4.143135</td>\n",
       "      <td>3.24</td>\n",
       "      <td>16692.0</td>\n",
       "    </tr>\n",
       "    <tr>\n",
       "      <th>1</th>\n",
       "      <td>Netherlands</td>\n",
       "      <td>NLD</td>\n",
       "      <td>1971.0</td>\n",
       "      <td>8.371358</td>\n",
       "      <td>3.170024</td>\n",
       "      <td>1.758224</td>\n",
       "      <td>0.056718</td>\n",
       "      <td>1.019467</td>\n",
       "      <td>6.661533</td>\n",
       "      <td>1.991730</td>\n",
       "      <td>0.093283</td>\n",
       "      <td>3.979682</td>\n",
       "      <td>9.51</td>\n",
       "      <td>19636.0</td>\n",
       "    </tr>\n",
       "    <tr>\n",
       "      <th>2</th>\n",
       "      <td>Nicaragua</td>\n",
       "      <td>NIC</td>\n",
       "      <td>1971.0</td>\n",
       "      <td>6.988136</td>\n",
       "      <td>2.266147</td>\n",
       "      <td>3.306797</td>\n",
       "      <td>0.344867</td>\n",
       "      <td>1.213858</td>\n",
       "      <td>3.261124</td>\n",
       "      <td>1.250483</td>\n",
       "      <td>1.206264</td>\n",
       "      <td>2.639057</td>\n",
       "      <td>26.21</td>\n",
       "      <td>4533.0</td>\n",
       "    </tr>\n",
       "    <tr>\n",
       "      <th>3</th>\n",
       "      <td>Namibia</td>\n",
       "      <td>NAM</td>\n",
       "      <td>1971.0</td>\n",
       "      <td>5.842094</td>\n",
       "      <td>0.583301</td>\n",
       "      <td>3.138460</td>\n",
       "      <td>0.609293</td>\n",
       "      <td>1.185488</td>\n",
       "      <td>1.919471</td>\n",
       "      <td>1.506671</td>\n",
       "      <td>2.041281</td>\n",
       "      <td>3.135494</td>\n",
       "      <td>19.64</td>\n",
       "      <td>6258.0</td>\n",
       "    </tr>\n",
       "    <tr>\n",
       "      <th>4</th>\n",
       "      <td>Niger</td>\n",
       "      <td>NER</td>\n",
       "      <td>1971.0</td>\n",
       "      <td>6.053970</td>\n",
       "      <td>2.288729</td>\n",
       "      <td>4.196612</td>\n",
       "      <td>1.206025</td>\n",
       "      <td>0.253070</td>\n",
       "      <td>0.022200</td>\n",
       "      <td>0.718947</td>\n",
       "      <td>1.028939</td>\n",
       "      <td>2.833213</td>\n",
       "      <td>29.34</td>\n",
       "      <td>1382.0</td>\n",
       "    </tr>\n",
       "  </tbody>\n",
       "</table>\n",
       "</div>"
      ],
      "text/plain": [
       "  Country_Name Country_Code    Year  Cereal_Yield  Arable_Land_Percent  \\\n",
       "0       Norway          NOR  1971.0      8.079401             1.163547   \n",
       "1  Netherlands          NLD  1971.0      8.371358             3.170024   \n",
       "2    Nicaragua          NIC  1971.0      6.988136             2.266147   \n",
       "3      Namibia          NAM  1971.0      5.842094             0.583301   \n",
       "4        Niger          NER  1971.0      6.053970             2.288729   \n",
       "\n",
       "   Value_Added_AFF  Arable_Land_Person  Freshwater_Withdrawl  Fertilizer  \\\n",
       "0         1.804178            0.187304              1.429050    5.563376   \n",
       "1         1.758224            0.056718              1.019467    6.661533   \n",
       "2         3.306797            0.344867              1.213858    3.261124   \n",
       "3         3.138460            0.609293              1.185488    1.919471   \n",
       "4         4.196612            1.206025              0.253070    0.022200   \n",
       "\n",
       "   Education_Expenditure  Natural_Resource_Rents  Distance_Equator  avg_temp  \\\n",
       "0               1.796640                0.334428          4.143135      3.24   \n",
       "1               1.991730                0.093283          3.979682      9.51   \n",
       "2               1.250483                1.206264          2.639057     26.21   \n",
       "3               1.506671                2.041281          3.135494     19.64   \n",
       "4               0.718947                1.028939          2.833213     29.34   \n",
       "\n",
       "   GDP per capita  \n",
       "0         16692.0  \n",
       "1         19636.0  \n",
       "2          4533.0  \n",
       "3          6258.0  \n",
       "4          1382.0  "
      ]
     },
     "execution_count": 57,
     "metadata": {},
     "output_type": "execute_result"
    }
   ],
   "source": [
    "wb_data_equator_temps_gdp.head()"
   ]
  },
  {
   "attachments": {},
   "cell_type": "markdown",
   "metadata": {},
   "source": [
    "## Export parquet\n"
   ]
  },
  {
   "cell_type": "code",
   "execution_count": 58,
   "metadata": {},
   "outputs": [],
   "source": [
    "wb_data_equator_temps_gdp.to_parquet('../data/wb_equator_temps_gdp.pq')"
   ]
  }
 ],
 "metadata": {
  "kernelspec": {
   "display_name": "Python 3",
   "language": "python",
   "name": "python3"
  },
  "language_info": {
   "codemirror_mode": {
    "name": "ipython",
    "version": 3
   },
   "file_extension": ".py",
   "mimetype": "text/x-python",
   "name": "python",
   "nbconvert_exporter": "python",
   "pygments_lexer": "ipython3",
   "version": "3.7.4"
  },
  "orig_nbformat": 4,
  "vscode": {
   "interpreter": {
    "hash": "767d51c1340bd893661ea55ea3124f6de3c7a262a8b4abca0554b478b1e2ff90"
   }
  }
 },
 "nbformat": 4,
 "nbformat_minor": 2
}
