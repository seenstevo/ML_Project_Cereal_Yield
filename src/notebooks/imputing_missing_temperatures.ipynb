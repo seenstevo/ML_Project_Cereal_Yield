{
 "cells": [
  {
   "attachments": {},
   "cell_type": "markdown",
   "metadata": {},
   "source": [
    "#### This contains some of the cells that could be used to impute missing temperature values based on neighbouring countries values"
   ]
  },
  {
   "cell_type": "code",
   "execution_count": null,
   "metadata": {},
   "outputs": [],
   "source": [
    "countries_with_temp = historical_mean_temperature['country'].unique()\n",
    "\n",
    "country_latitude_longitude[['Nearest_Country', 'Haversine_Distance']] = country_latitude_longitude.apply(\n",
    "    lambda row: functions.haversine_calculation(row, countries_with_temp, country_latitude_longitude), axis = 1).tolist()"
   ]
  },
  {
   "cell_type": "code",
   "execution_count": null,
   "metadata": {},
   "outputs": [],
   "source": [
    "closest_country_with_temperature = country_latitude_longitude[['Country', 'Nearest_Country']]"
   ]
  },
  {
   "cell_type": "code",
   "execution_count": null,
   "metadata": {},
   "outputs": [],
   "source": [
    "temperature_missing = (set(data['Country_Name']) - set(historical_mean_temperature['country'].unique()))"
   ]
  },
  {
   "cell_type": "code",
   "execution_count": null,
   "metadata": {},
   "outputs": [],
   "source": [
    "imputed_temperatures = pd.DataFrame(columns = ['year', 'country', 'avg_temp'])\n",
    "\n",
    "for country in temperature_missing:\n",
    "    try:\n",
    "        neareast_country = closest_country_with_temperature[closest_country_with_temperature['Country'] == country]['Nearest_Country'].values[0]\n",
    "        to_steal = historical_mean_temperature[historical_mean_temperature['country'] == neareast_country]\n",
    "        to_steal['country'] = country\n",
    "        imputed_temperatures = imputed_temperatures.append(to_steal)\n",
    "    except IndexError:\n",
    "        print(country, 'does not have temperature data')"
   ]
  },
  {
   "cell_type": "code",
   "execution_count": null,
   "metadata": {},
   "outputs": [],
   "source": [
    "historical_mean_temperature = historical_mean_temperature.append(imputed_temperatures)"
   ]
  }
 ],
 "metadata": {
  "kernelspec": {
   "display_name": "Python 3",
   "language": "python",
   "name": "python3"
  },
  "language_info": {
   "name": "python",
   "version": "3.7.4"
  },
  "orig_nbformat": 4,
  "vscode": {
   "interpreter": {
    "hash": "767d51c1340bd893661ea55ea3124f6de3c7a262a8b4abca0554b478b1e2ff90"
   }
  }
 },
 "nbformat": 4,
 "nbformat_minor": 2
}
